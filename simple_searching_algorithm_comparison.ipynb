{
  "nbformat": 4,
  "nbformat_minor": 0,
  "metadata": {
    "colab": {
      "provenance": []
    },
    "kernelspec": {
      "name": "python3",
      "display_name": "Python 3"
    },
    "language_info": {
      "name": "python"
    }
  },
  "cells": [
    {
      "cell_type": "markdown",
      "source": [
        "# Searching"
      ],
      "metadata": {
        "id": "xlCwGFpl1iRZ"
      }
    },
    {
      "cell_type": "code",
      "source": [
        "import random\n",
        "from typing import List, Optional\n",
        "\n",
        "def binary_search(arr: List[int], low: int, high: int, x: int) -> int:\n",
        "    \"\"\"\n",
        "    Perform binary search to find the index of the target element 'x' in the sorted list 'arr'.\n",
        "\n",
        "    Args:\n",
        "        arr (List[int]): A sorted list of integers.\n",
        "        low (int): The lowest index to consider in the search.\n",
        "        high (int): The highest index to consider in the search.\n",
        "        x (int): The target element to search for.\n",
        "\n",
        "    Returns:\n",
        "        int: The index of 'x' in 'arr' if found, else -1.\n",
        "\n",
        "    Examples:\n",
        "        >>> binary_search([1, 2, 3, 4, 5], 0, 4, 3)\n",
        "        2\n",
        "        >>> binary_search([1, 2, 3, 4, 5], 0, 4, 6)\n",
        "        -1\n",
        "    \"\"\"\n",
        "    if high >= low:\n",
        "        mid = (high + low) // 2\n",
        "        if arr[mid] == x:\n",
        "            return mid\n",
        "        elif arr[mid] > x:\n",
        "            return binary_search(arr, low, mid - 1, x)\n",
        "        else:\n",
        "            return binary_search(arr, mid + 1, high, x)\n",
        "    else:\n",
        "        return -1\n",
        "\n",
        "def linear_search(arr: List[int], x: int) -> int:\n",
        "    \"\"\"\n",
        "    Perform linear search to find the index of the target element 'x' in the list 'arr'.\n",
        "\n",
        "    Args:\n",
        "        arr (List[int]): A list of integers.\n",
        "        x (int): The target element to search for.\n",
        "\n",
        "    Returns:\n",
        "        int: The index of 'x' in 'arr' if found, else -1.\n",
        "\n",
        "    Examples:\n",
        "        >>> linear_search([1, 2, 3, 4, 5], 3)\n",
        "        2\n",
        "        >>> linear_search([1, 2, 3, 4, 5], 6)\n",
        "        -1\n",
        "    \"\"\"\n",
        "    for i in range(len(arr)):\n",
        "        if arr[i] == x:\n",
        "            return i\n",
        "    return -1\n"
      ],
      "metadata": {
        "id": "o7McGoCK1jkx"
      },
      "execution_count": 1,
      "outputs": []
    },
    {
      "cell_type": "markdown",
      "source": [
        "## Small n (n=10)"
      ],
      "metadata": {
        "id": "SoTQffzi6d3c"
      }
    },
    {
      "cell_type": "code",
      "source": [
        "n = 10\n",
        "arr = [random.randint(0,n) for _ in range(n)]\n",
        "arr.sort()\n",
        "x = random.randint(int(n*.45),int(n*.55))"
      ],
      "metadata": {
        "id": "MGN2nX0e3x6i"
      },
      "execution_count": 2,
      "outputs": []
    },
    {
      "cell_type": "code",
      "source": [
        "%%timeit\n",
        "binary_search(arr, 0, len(arr)-1, x)"
      ],
      "metadata": {
        "colab": {
          "base_uri": "https://localhost:8080/"
        },
        "id": "t9kc9rko4Usg",
        "outputId": "183ca2b4-bb70-4aae-9f51-79195d95d2a8"
      },
      "execution_count": 3,
      "outputs": [
        {
          "output_type": "stream",
          "name": "stdout",
          "text": [
            "1.41 µs ± 142 ns per loop (mean ± std. dev. of 7 runs, 100000 loops each)\n"
          ]
        }
      ]
    },
    {
      "cell_type": "code",
      "source": [
        "%%timeit\n",
        "linear_search(arr, x)"
      ],
      "metadata": {
        "colab": {
          "base_uri": "https://localhost:8080/"
        },
        "id": "37QL3whW4zk9",
        "outputId": "e3198f96-2262-4a06-fb9a-1acb7ba87eff"
      },
      "execution_count": 4,
      "outputs": [
        {
          "output_type": "stream",
          "name": "stdout",
          "text": [
            "922 ns ± 78.9 ns per loop (mean ± std. dev. of 7 runs, 1000000 loops each)\n"
          ]
        }
      ]
    },
    {
      "cell_type": "markdown",
      "source": [
        "> In the case of a small input size (n=10), binary search is slightly slower than linear search. This is because the overhead of the recursive function calls in binary search can outweigh the benefits of its logarithmic time complexity."
      ],
      "metadata": {
        "id": "sEAXYIuxXYZT"
      }
    },
    {
      "cell_type": "markdown",
      "source": [
        "## Large n (n=100000000)"
      ],
      "metadata": {
        "id": "hzgFnps_6iF7"
      }
    },
    {
      "cell_type": "code",
      "source": [
        "n = 100000000\n",
        "arr = [random.randint(0,n) for _ in range(n)]\n",
        "arr.sort()\n",
        "x = random.randint(int(n*.45),int(n*.55))"
      ],
      "metadata": {
        "id": "qQ9cBjux6k0i"
      },
      "execution_count": 5,
      "outputs": []
    },
    {
      "cell_type": "code",
      "source": [
        "%%timeit\n",
        "binary_search(arr, 0, len(arr)-1, x)"
      ],
      "metadata": {
        "colab": {
          "base_uri": "https://localhost:8080/"
        },
        "id": "6Ks2jkTO6n0U",
        "outputId": "7a95ab4c-3a84-4e54-8693-930072f97c77"
      },
      "execution_count": 6,
      "outputs": [
        {
          "output_type": "stream",
          "name": "stdout",
          "text": [
            "10.6 µs ± 1.48 µs per loop (mean ± std. dev. of 7 runs, 100000 loops each)\n"
          ]
        }
      ]
    },
    {
      "cell_type": "code",
      "source": [
        "%%timeit\n",
        "linear_search(arr, x)"
      ],
      "metadata": {
        "colab": {
          "base_uri": "https://localhost:8080/"
        },
        "id": "SQOXCGFE6pda",
        "outputId": "1df59bba-6058-4c37-9c3d-655bccdf2c70"
      },
      "execution_count": 7,
      "outputs": [
        {
          "output_type": "stream",
          "name": "stdout",
          "text": [
            "23.7 s ± 838 ms per loop (mean ± std. dev. of 7 runs, 1 loop each)\n"
          ]
        }
      ]
    },
    {
      "cell_type": "markdown",
      "source": [
        "> For a large input size (n=100000000), binary search significantly outperforms linear search. Binary search's logarithmic time complexity allows it to handle large datasets much more efficiently, while linear search becomes impractically slow due to its linear time complexity."
      ],
      "metadata": {
        "id": "RfknKoYdXa-e"
      }
    },
    {
      "cell_type": "markdown",
      "source": [
        "## Summary"
      ],
      "metadata": {
        "id": "99x1VFxxXN1V"
      }
    },
    {
      "cell_type": "markdown",
      "source": [
        "> In summary, for small input sizes, linear search may be faster due to its simplicity. However, as the input size grows, binary search becomes the clear choice for efficient searching, as it scales much better with larger datasets."
      ],
      "metadata": {
        "id": "0jGs9m48XPML"
      }
    },
    {
      "cell_type": "markdown",
      "source": [
        "# References"
      ],
      "metadata": {
        "id": "Pp_Rrna1Ve2Q"
      }
    },
    {
      "cell_type": "markdown",
      "source": [
        "- Time Complexity  \n",
        "  - https://www.geeksforgeeks.org/time-complexity-and-space-complexity/\n",
        "  - https://www.geeksforgeeks.org/understanding-time-complexity-simple-examples/\n",
        "- Searching Algorithms\n",
        "  - https://www.geeksforgeeks.org/searching-algorithms/\n",
        "- Binary Search\n",
        "  - https://www.geeksforgeeks.org/binary-search/\n",
        "- Linear Search\n",
        "  - https://www.geeksforgeeks.org/linear-search/"
      ],
      "metadata": {
        "id": "MWgdPeCXViPD"
      }
    }
  ]
}